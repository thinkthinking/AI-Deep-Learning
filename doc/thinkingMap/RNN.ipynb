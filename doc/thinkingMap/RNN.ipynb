{
 "cells": [
  {
   "cell_type": "markdown",
   "source": [
    "# **Recurent Neural Netword**\r\n",
    "## **Bi-directional LSTM**\r\n",
    "## **GRU**\r\n",
    "## **Natural Language Processing**\r\n",
    "### **Language Evolution**\r\n",
    "### **Language Model**\r\n",
    "猴子打印出莎士比亚著作的概率。\r\n",
    "### **Bag of Words**\r\n",
    "把所有的词语当成一个袋子。\r\n",
    "\r\n",
    "一种One Hot的描述方式。\r\n",
    "\r\n",
    "相近的词和离得比较远的词没有区别。\r\n",
    "\r\n",
    "One-Hot\r\n",
    "### **Vocabulary**\r\n",
    "一个词的含义通过词和词之间的关系来定义。\r\n",
    "\r\n",
    "**Distributed Representation**\r\n",
    "\r\n",
    "**Embedding Representation**\r\n",
    "\r\n",
    "**Neural Language Model**"
   ],
   "metadata": {}
  },
  {
   "cell_type": "markdown",
   "source": [],
   "metadata": {}
  }
 ],
 "metadata": {
  "orig_nbformat": 4,
  "language_info": {
   "name": "python"
  }
 },
 "nbformat": 4,
 "nbformat_minor": 2
}